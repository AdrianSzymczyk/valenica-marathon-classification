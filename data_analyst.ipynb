{
 "cells": [
  {
   "cell_type": "code",
   "execution_count": 48,
   "id": "86424e4a",
   "metadata": {},
   "outputs": [],
   "source": [
    "import pandas as pd \n",
    "import numpy as np\n",
    "from pathlib import Path\n",
    "from datetime import time, datetime, timedelta"
   ]
  },
  {
   "cell_type": "markdown",
   "id": "b9a216e1",
   "metadata": {},
   "source": [
    "## Load data from json file"
   ]
  },
  {
   "cell_type": "code",
   "execution_count": 49,
   "id": "c308780a",
   "metadata": {},
   "outputs": [],
   "source": [
    "runners = pd.read_json('datasets/valencia_marathon_2022.json')"
   ]
  },
  {
   "cell_type": "code",
   "execution_count": 50,
   "id": "f1d976e2",
   "metadata": {},
   "outputs": [
    {
     "data": {
      "text/html": [
       "<div>\n",
       "<style scoped>\n",
       "    .dataframe tbody tr th:only-of-type {\n",
       "        vertical-align: middle;\n",
       "    }\n",
       "\n",
       "    .dataframe tbody tr th {\n",
       "        vertical-align: top;\n",
       "    }\n",
       "\n",
       "    .dataframe thead th {\n",
       "        text-align: right;\n",
       "    }\n",
       "</style>\n",
       "<table border=\"1\" class=\"dataframe\">\n",
       "  <thead>\n",
       "    <tr style=\"text-align: right;\">\n",
       "      <th></th>\n",
       "      <th>OFFICIAL POS.</th>\n",
       "      <th>RACE NUMBER</th>\n",
       "      <th>NAME</th>\n",
       "      <th>OFFICIAL TIME</th>\n",
       "      <th>REAL TIME</th>\n",
       "      <th>REAL AVERAGE</th>\n",
       "      <th>CATEGORY</th>\n",
       "    </tr>\n",
       "  </thead>\n",
       "  <tbody>\n",
       "    <tr>\n",
       "      <th>0</th>\n",
       "      <td>1</td>\n",
       "      <td>14</td>\n",
       "      <td>KIPTUM, KELVIN</td>\n",
       "      <td>2:01:53</td>\n",
       "      <td>2:01:53</td>\n",
       "      <td>2,53</td>\n",
       "      <td>M-SENIOR</td>\n",
       "    </tr>\n",
       "    <tr>\n",
       "      <th>1</th>\n",
       "      <td>2</td>\n",
       "      <td>8</td>\n",
       "      <td>GEAY, GABRIEL</td>\n",
       "      <td>2:03:00</td>\n",
       "      <td>2:02:59</td>\n",
       "      <td>2,55</td>\n",
       "      <td>M-SENIOR</td>\n",
       "    </tr>\n",
       "    <tr>\n",
       "      <th>2</th>\n",
       "      <td>3</td>\n",
       "      <td>12</td>\n",
       "      <td>MUTISO, ALEXANDER</td>\n",
       "      <td>2:03:29</td>\n",
       "      <td>2:03:29</td>\n",
       "      <td>2,56</td>\n",
       "      <td>M-SENIOR</td>\n",
       "    </tr>\n",
       "    <tr>\n",
       "      <th>3</th>\n",
       "      <td>4</td>\n",
       "      <td>1</td>\n",
       "      <td>TOLA, TAMIRAT</td>\n",
       "      <td>2:03:40</td>\n",
       "      <td>2:03:40</td>\n",
       "      <td>2,56</td>\n",
       "      <td>M-SENIOR</td>\n",
       "    </tr>\n",
       "    <tr>\n",
       "      <th>4</th>\n",
       "      <td>5</td>\n",
       "      <td>3</td>\n",
       "      <td>ÖZBILEN, KAAN KIGEN</td>\n",
       "      <td>2:04:36</td>\n",
       "      <td>2:04:36</td>\n",
       "      <td>2,57</td>\n",
       "      <td>M-M35</td>\n",
       "    </tr>\n",
       "    <tr>\n",
       "      <th>...</th>\n",
       "      <td>...</td>\n",
       "      <td>...</td>\n",
       "      <td>...</td>\n",
       "      <td>...</td>\n",
       "      <td>...</td>\n",
       "      <td>...</td>\n",
       "      <td>...</td>\n",
       "    </tr>\n",
       "    <tr>\n",
       "      <th>21623</th>\n",
       "      <td>21624</td>\n",
       "      <td>14028</td>\n",
       "      <td>TREDGOLD, DAN</td>\n",
       "      <td>6:05:40</td>\n",
       "      <td>6:04:17</td>\n",
       "      <td>8,40</td>\n",
       "      <td>M-SENIOR</td>\n",
       "    </tr>\n",
       "    <tr>\n",
       "      <th>21624</th>\n",
       "      <td>21625</td>\n",
       "      <td>28127</td>\n",
       "      <td>ARRIGHI, PAOLA</td>\n",
       "      <td>6:06:01</td>\n",
       "      <td>6:05:20</td>\n",
       "      <td>8,40</td>\n",
       "      <td>F-W60</td>\n",
       "    </tr>\n",
       "    <tr>\n",
       "      <th>21625</th>\n",
       "      <td>21626</td>\n",
       "      <td>5337</td>\n",
       "      <td>ALLEN, ROXANA</td>\n",
       "      <td>6:09:05</td>\n",
       "      <td>6:08:35</td>\n",
       "      <td>8,45</td>\n",
       "      <td>F-W45</td>\n",
       "    </tr>\n",
       "    <tr>\n",
       "      <th>21626</th>\n",
       "      <td>21627</td>\n",
       "      <td>20220</td>\n",
       "      <td>SMITH, LOUISE</td>\n",
       "      <td>6:12:33</td>\n",
       "      <td>6:11:58</td>\n",
       "      <td>8,50</td>\n",
       "      <td>F-W45</td>\n",
       "    </tr>\n",
       "    <tr>\n",
       "      <th>21627</th>\n",
       "      <td>21628</td>\n",
       "      <td>26322</td>\n",
       "      <td>HERRMANN, PAULINE</td>\n",
       "      <td>6:16:22</td>\n",
       "      <td>6:15:47</td>\n",
       "      <td>8,55</td>\n",
       "      <td>F-SENIOR</td>\n",
       "    </tr>\n",
       "  </tbody>\n",
       "</table>\n",
       "<p>21628 rows × 7 columns</p>\n",
       "</div>"
      ],
      "text/plain": [
       "      OFFICIAL POS.  RACE NUMBER                 NAME OFFICIAL TIME REAL TIME  \\\n",
       "0                 1           14       KIPTUM, KELVIN       2:01:53   2:01:53   \n",
       "1                 2            8        GEAY, GABRIEL       2:03:00   2:02:59   \n",
       "2                 3           12    MUTISO, ALEXANDER       2:03:29   2:03:29   \n",
       "3                 4            1        TOLA, TAMIRAT       2:03:40   2:03:40   \n",
       "4                 5            3  ÖZBILEN, KAAN KIGEN       2:04:36   2:04:36   \n",
       "...             ...          ...                  ...           ...       ...   \n",
       "21623         21624        14028        TREDGOLD, DAN       6:05:40   6:04:17   \n",
       "21624         21625        28127       ARRIGHI, PAOLA       6:06:01   6:05:20   \n",
       "21625         21626         5337        ALLEN, ROXANA       6:09:05   6:08:35   \n",
       "21626         21627        20220        SMITH, LOUISE       6:12:33   6:11:58   \n",
       "21627         21628        26322    HERRMANN, PAULINE       6:16:22   6:15:47   \n",
       "\n",
       "      REAL AVERAGE  CATEGORY  \n",
       "0             2,53  M-SENIOR  \n",
       "1             2,55  M-SENIOR  \n",
       "2             2,56  M-SENIOR  \n",
       "3             2,56  M-SENIOR  \n",
       "4             2,57     M-M35  \n",
       "...            ...       ...  \n",
       "21623         8,40  M-SENIOR  \n",
       "21624         8,40     F-W60  \n",
       "21625         8,45     F-W45  \n",
       "21626         8,50     F-W45  \n",
       "21627         8,55  F-SENIOR  \n",
       "\n",
       "[21628 rows x 7 columns]"
      ]
     },
     "execution_count": 50,
     "metadata": {},
     "output_type": "execute_result"
    }
   ],
   "source": [
    "runners"
   ]
  },
  {
   "cell_type": "code",
   "execution_count": 51,
   "id": "ac717f83",
   "metadata": {},
   "outputs": [
    {
     "name": "stdout",
     "output_type": "stream",
     "text": [
      "<class 'pandas.core.frame.DataFrame'>\n",
      "Int64Index: 21628 entries, 0 to 21627\n",
      "Data columns (total 7 columns):\n",
      " #   Column         Non-Null Count  Dtype \n",
      "---  ------         --------------  ----- \n",
      " 0   OFFICIAL POS.  21628 non-null  object\n",
      " 1   RACE NUMBER    21628 non-null  int64 \n",
      " 2   NAME           21628 non-null  object\n",
      " 3   OFFICIAL TIME  21628 non-null  object\n",
      " 4   REAL TIME      21628 non-null  object\n",
      " 5   REAL AVERAGE   21628 non-null  object\n",
      " 6   CATEGORY       21628 non-null  object\n",
      "dtypes: int64(1), object(6)\n",
      "memory usage: 1.3+ MB\n"
     ]
    }
   ],
   "source": [
    "runners.info()"
   ]
  },
  {
   "cell_type": "markdown",
   "id": "50c5bb84",
   "metadata": {},
   "source": [
    "## DATA PREPROCESSING"
   ]
  },
  {
   "cell_type": "markdown",
   "id": "f0bb6ba2",
   "metadata": {},
   "source": [
    "#### Convert OFFICIAL POS. column into numeric type"
   ]
  },
  {
   "cell_type": "code",
   "execution_count": 35,
   "id": "99a5ba07",
   "metadata": {},
   "outputs": [],
   "source": [
    "runners['OFFICIAL POS.'] = pd.to_numeric(runners['OFFICIAL POS.'], errors='coerce')"
   ]
  },
  {
   "cell_type": "code",
   "execution_count": 38,
   "id": "61d0ac5b",
   "metadata": {},
   "outputs": [
    {
     "data": {
      "text/html": [
       "<div>\n",
       "<style scoped>\n",
       "    .dataframe tbody tr th:only-of-type {\n",
       "        vertical-align: middle;\n",
       "    }\n",
       "\n",
       "    .dataframe tbody tr th {\n",
       "        vertical-align: top;\n",
       "    }\n",
       "\n",
       "    .dataframe thead th {\n",
       "        text-align: right;\n",
       "    }\n",
       "</style>\n",
       "<table border=\"1\" class=\"dataframe\">\n",
       "  <thead>\n",
       "    <tr style=\"text-align: right;\">\n",
       "      <th></th>\n",
       "      <th>OFFICIAL POS.</th>\n",
       "      <th>RACE NUMBER</th>\n",
       "      <th>NAME</th>\n",
       "      <th>OFFICIAL TIME</th>\n",
       "      <th>REAL TIME</th>\n",
       "      <th>REAL AVERAGE</th>\n",
       "      <th>CATEGORY</th>\n",
       "    </tr>\n",
       "  </thead>\n",
       "  <tbody>\n",
       "    <tr>\n",
       "      <th>21468</th>\n",
       "      <td>NaN</td>\n",
       "      <td>24914</td>\n",
       "      <td>BARBERAN PILES, PEDRO PABLO</td>\n",
       "      <td>5:30:22</td>\n",
       "      <td>5:30:22</td>\n",
       "      <td>7,50</td>\n",
       "      <td>M-M40</td>\n",
       "    </tr>\n",
       "    <tr>\n",
       "      <th>21500</th>\n",
       "      <td>NaN</td>\n",
       "      <td>26250</td>\n",
       "      <td>ESTEBAN MUÑOZ, VICTOR MANUEL</td>\n",
       "      <td>5:33:24</td>\n",
       "      <td>5:32:48</td>\n",
       "      <td>7,54</td>\n",
       "      <td>M-M50</td>\n",
       "    </tr>\n",
       "    <tr>\n",
       "      <th>21550</th>\n",
       "      <td>NaN</td>\n",
       "      <td>25507</td>\n",
       "      <td>SAENZ ENGUIDANOS, ADRIAN</td>\n",
       "      <td>5:41:07</td>\n",
       "      <td>5:40:06</td>\n",
       "      <td>8,05</td>\n",
       "      <td>M-M40</td>\n",
       "    </tr>\n",
       "    <tr>\n",
       "      <th>21600</th>\n",
       "      <td>NaN</td>\n",
       "      <td>15766</td>\n",
       "      <td>CANALE, STEFANO</td>\n",
       "      <td>5:50:52</td>\n",
       "      <td>5:50:44</td>\n",
       "      <td>8,19</td>\n",
       "      <td>M-M50</td>\n",
       "    </tr>\n",
       "  </tbody>\n",
       "</table>\n",
       "</div>"
      ],
      "text/plain": [
       "       OFFICIAL POS.  RACE NUMBER                          NAME OFFICIAL TIME  \\\n",
       "21468            NaN        24914   BARBERAN PILES, PEDRO PABLO       5:30:22   \n",
       "21500            NaN        26250  ESTEBAN MUÑOZ, VICTOR MANUEL       5:33:24   \n",
       "21550            NaN        25507      SAENZ ENGUIDANOS, ADRIAN       5:41:07   \n",
       "21600            NaN        15766               CANALE, STEFANO       5:50:52   \n",
       "\n",
       "      REAL TIME REAL AVERAGE CATEGORY  \n",
       "21468   5:30:22         7,50    M-M40  \n",
       "21500   5:32:48         7,54    M-M50  \n",
       "21550   5:40:06         8,05    M-M40  \n",
       "21600   5:50:44         8,19    M-M50  "
      ]
     },
     "execution_count": 38,
     "metadata": {},
     "output_type": "execute_result"
    }
   ],
   "source": [
    "runners[runners['OFFICIAL POS.'].isna()]"
   ]
  },
  {
   "cell_type": "code",
   "execution_count": 39,
   "id": "fcc28848",
   "metadata": {},
   "outputs": [],
   "source": [
    "runners.loc[runners['OFFICIAL POS.'].isna(), 'OFFICIAL POS.'] = (runners[runners['OFFICIAL POS.'].isna()].index + 1).astype(int)"
   ]
  },
  {
   "cell_type": "code",
   "execution_count": 40,
   "id": "8f764289",
   "metadata": {},
   "outputs": [
    {
     "data": {
      "text/plain": [
       "0            1\n",
       "1            2\n",
       "2            3\n",
       "3            4\n",
       "4            5\n",
       "         ...  \n",
       "21623    21624\n",
       "21624    21625\n",
       "21625    21626\n",
       "21626    21627\n",
       "21627    21628\n",
       "Name: OFFICIAL POS., Length: 21628, dtype: int32"
      ]
     },
     "execution_count": 40,
     "metadata": {},
     "output_type": "execute_result"
    }
   ],
   "source": [
    "runners['OFFICIAL POS.'] = runners['OFFICIAL POS.'].astype(int)"
   ]
  },
  {
   "cell_type": "markdown",
   "id": "49da12f6",
   "metadata": {},
   "source": [
    "### Times conversion"
   ]
  },
  {
   "cell_type": "markdown",
   "id": "68c9aa13",
   "metadata": {},
   "source": [
    "#### Create column with time compartments for data discovery"
   ]
  },
  {
   "cell_type": "code",
   "execution_count": 10,
   "id": "897ccbb5",
   "metadata": {},
   "outputs": [],
   "source": [
    "def define_time_compartment(official_time):\n",
    "    official_time = datetime.strptime(official_time,'%H:%M:%S').time()\n",
    "    start_time = time(1,50,0)\n",
    "    finish_time = time(7,0,0)\n",
    "    step = time(0,10,0)\n",
    "    current_time = start_time\n",
    "    while current_time <= finish_time:\n",
    "        if official_time < current_time:\n",
    "            return current_time.strftime(\"%H:%M:%S\")\n",
    "        current_time = (datetime.combine(datetime.today(), current_time) + timedelta(hours=step.hour, minutes=step.minute, seconds=step.second)).time()"
   ]
  },
  {
   "cell_type": "code",
   "execution_count": 11,
   "id": "ad509b91",
   "metadata": {},
   "outputs": [],
   "source": [
    "runners['TIME COMPARTMENT'] = runners['OFFICIAL TIME'].apply(define_time_compartment)"
   ]
  },
  {
   "cell_type": "markdown",
   "id": "69e18537",
   "metadata": {},
   "source": [
    "#### Convert data type of columns (OFFICIAL TIME, REAL TIME) into numeric representation as total number of seconds"
   ]
  },
  {
   "cell_type": "code",
   "execution_count": 12,
   "id": "32546306",
   "metadata": {},
   "outputs": [],
   "source": [
    "runners['OFFICIAL TIME'] = pd.to_timedelta(runners['OFFICIAL TIME'].astype(str)).dt.total_seconds()\n",
    "runners['REAL TIME'] = pd.to_timedelta(runners['REAL TIME'].astype(str)).dt.total_seconds()"
   ]
  },
  {
   "cell_type": "code",
   "execution_count": 13,
   "id": "e59a8bec",
   "metadata": {},
   "outputs": [
    {
     "name": "stdout",
     "output_type": "stream",
     "text": [
      "00:02:53\n"
     ]
    }
   ],
   "source": [
    "print(datetime.strptime(runners.iloc[0]['REAL AVERAGE'], '%M,%S').time())"
   ]
  },
  {
   "cell_type": "code",
   "execution_count": 14,
   "id": "0d5de093",
   "metadata": {},
   "outputs": [],
   "source": [
    "runners['REAL AVERAGE'] = runners['REAL AVERAGE'].apply(lambda x: datetime.strptime(x,'%M,%S').time())\n",
    "runners['REAL AVERAGE'] = pd.to_timedelta(runners['REAL AVERAGE'].astype(str)).dt.total_seconds()"
   ]
  },
  {
   "cell_type": "markdown",
   "id": "5fbf1c5e",
   "metadata": {},
   "source": [
    "#### Create sex column"
   ]
  },
  {
   "cell_type": "code",
   "execution_count": 46,
   "id": "582bc471",
   "metadata": {},
   "outputs": [],
   "source": [
    "runners['SEX'] = [participant[0] for participant in runners['CATEGORY']]"
   ]
  },
  {
   "cell_type": "markdown",
   "id": "76fa7ed1",
   "metadata": {},
   "source": [
    "#### Create age column"
   ]
  },
  {
   "cell_type": "code",
   "execution_count": 45,
   "id": "6c0eaf53",
   "metadata": {},
   "outputs": [],
   "source": [
    "def extract_age(category):\n",
    "    try:\n",
    "        return int(category[-2:])\n",
    "    except ValueError as err:\n",
    "        return np.nan\n",
    "\n",
    "runners['AGE'] = runners['CATEGORY'].apply(extract_age)"
   ]
  },
  {
   "cell_type": "markdown",
   "id": "871aafdf",
   "metadata": {},
   "source": [
    "#### Drop rows with empty data"
   ]
  },
  {
   "cell_type": "code",
   "execution_count": 16,
   "id": "cddb5ed2",
   "metadata": {
    "scrolled": true
   },
   "outputs": [
    {
     "data": {
      "text/html": [
       "<div>\n",
       "<style scoped>\n",
       "    .dataframe tbody tr th:only-of-type {\n",
       "        vertical-align: middle;\n",
       "    }\n",
       "\n",
       "    .dataframe tbody tr th {\n",
       "        vertical-align: top;\n",
       "    }\n",
       "\n",
       "    .dataframe thead th {\n",
       "        text-align: right;\n",
       "    }\n",
       "</style>\n",
       "<table border=\"1\" class=\"dataframe\">\n",
       "  <thead>\n",
       "    <tr style=\"text-align: right;\">\n",
       "      <th></th>\n",
       "      <th>OFFICIAL POS.</th>\n",
       "      <th>RACE NUMBER</th>\n",
       "      <th>NAME</th>\n",
       "      <th>OFFICIAL TIME</th>\n",
       "      <th>REAL TIME</th>\n",
       "      <th>REAL AVERAGE</th>\n",
       "      <th>CATEGORY</th>\n",
       "      <th>SEX</th>\n",
       "      <th>TIME COMPARTMENT</th>\n",
       "      <th>AGE</th>\n",
       "    </tr>\n",
       "  </thead>\n",
       "  <tbody>\n",
       "    <tr>\n",
       "      <th>0</th>\n",
       "      <td>1.0</td>\n",
       "      <td>14</td>\n",
       "      <td>KIPTUM, KELVIN</td>\n",
       "      <td>7313.0</td>\n",
       "      <td>7313.0</td>\n",
       "      <td>173.0</td>\n",
       "      <td>M-SENIOR</td>\n",
       "      <td>M</td>\n",
       "      <td>02:10:00</td>\n",
       "      <td>NaN</td>\n",
       "    </tr>\n",
       "    <tr>\n",
       "      <th>1</th>\n",
       "      <td>2.0</td>\n",
       "      <td>8</td>\n",
       "      <td>GEAY, GABRIEL</td>\n",
       "      <td>7380.0</td>\n",
       "      <td>7379.0</td>\n",
       "      <td>175.0</td>\n",
       "      <td>M-SENIOR</td>\n",
       "      <td>M</td>\n",
       "      <td>02:10:00</td>\n",
       "      <td>NaN</td>\n",
       "    </tr>\n",
       "    <tr>\n",
       "      <th>2</th>\n",
       "      <td>3.0</td>\n",
       "      <td>12</td>\n",
       "      <td>MUTISO, ALEXANDER</td>\n",
       "      <td>7409.0</td>\n",
       "      <td>7409.0</td>\n",
       "      <td>176.0</td>\n",
       "      <td>M-SENIOR</td>\n",
       "      <td>M</td>\n",
       "      <td>02:10:00</td>\n",
       "      <td>NaN</td>\n",
       "    </tr>\n",
       "    <tr>\n",
       "      <th>3</th>\n",
       "      <td>4.0</td>\n",
       "      <td>1</td>\n",
       "      <td>TOLA, TAMIRAT</td>\n",
       "      <td>7420.0</td>\n",
       "      <td>7420.0</td>\n",
       "      <td>176.0</td>\n",
       "      <td>M-SENIOR</td>\n",
       "      <td>M</td>\n",
       "      <td>02:10:00</td>\n",
       "      <td>NaN</td>\n",
       "    </tr>\n",
       "    <tr>\n",
       "      <th>5</th>\n",
       "      <td>6.0</td>\n",
       "      <td>7</td>\n",
       "      <td>DESO, CHALU</td>\n",
       "      <td>7496.0</td>\n",
       "      <td>7496.0</td>\n",
       "      <td>178.0</td>\n",
       "      <td>M-SENIOR</td>\n",
       "      <td>M</td>\n",
       "      <td>02:10:00</td>\n",
       "      <td>NaN</td>\n",
       "    </tr>\n",
       "    <tr>\n",
       "      <th>...</th>\n",
       "      <td>...</td>\n",
       "      <td>...</td>\n",
       "      <td>...</td>\n",
       "      <td>...</td>\n",
       "      <td>...</td>\n",
       "      <td>...</td>\n",
       "      <td>...</td>\n",
       "      <td>...</td>\n",
       "      <td>...</td>\n",
       "      <td>...</td>\n",
       "    </tr>\n",
       "    <tr>\n",
       "      <th>21594</th>\n",
       "      <td>21595.0</td>\n",
       "      <td>17188</td>\n",
       "      <td>SOLIZ HUACOTA, SELENE JANCARLA</td>\n",
       "      <td>20876.0</td>\n",
       "      <td>20868.0</td>\n",
       "      <td>495.0</td>\n",
       "      <td>F-SENIOR</td>\n",
       "      <td>F</td>\n",
       "      <td>05:50:00</td>\n",
       "      <td>NaN</td>\n",
       "    </tr>\n",
       "    <tr>\n",
       "      <th>21597</th>\n",
       "      <td>21598.0</td>\n",
       "      <td>19508</td>\n",
       "      <td>VÁSQUEZ BETANCUR, ALFONSO</td>\n",
       "      <td>21006.0</td>\n",
       "      <td>20972.0</td>\n",
       "      <td>498.0</td>\n",
       "      <td>M-SENIOR</td>\n",
       "      <td>M</td>\n",
       "      <td>06:00:00</td>\n",
       "      <td>NaN</td>\n",
       "    </tr>\n",
       "    <tr>\n",
       "      <th>21613</th>\n",
       "      <td>21614.0</td>\n",
       "      <td>22982</td>\n",
       "      <td>GUÍJAR ABRIL, GUILLERMO</td>\n",
       "      <td>21485.0</td>\n",
       "      <td>21384.0</td>\n",
       "      <td>509.0</td>\n",
       "      <td>M-SENIOR</td>\n",
       "      <td>M</td>\n",
       "      <td>06:00:00</td>\n",
       "      <td>NaN</td>\n",
       "    </tr>\n",
       "    <tr>\n",
       "      <th>21623</th>\n",
       "      <td>21624.0</td>\n",
       "      <td>14028</td>\n",
       "      <td>TREDGOLD, DAN</td>\n",
       "      <td>21940.0</td>\n",
       "      <td>21857.0</td>\n",
       "      <td>520.0</td>\n",
       "      <td>M-SENIOR</td>\n",
       "      <td>M</td>\n",
       "      <td>06:10:00</td>\n",
       "      <td>NaN</td>\n",
       "    </tr>\n",
       "    <tr>\n",
       "      <th>21627</th>\n",
       "      <td>21628.0</td>\n",
       "      <td>26322</td>\n",
       "      <td>HERRMANN, PAULINE</td>\n",
       "      <td>22582.0</td>\n",
       "      <td>22547.0</td>\n",
       "      <td>535.0</td>\n",
       "      <td>F-SENIOR</td>\n",
       "      <td>F</td>\n",
       "      <td>06:20:00</td>\n",
       "      <td>NaN</td>\n",
       "    </tr>\n",
       "  </tbody>\n",
       "</table>\n",
       "<p>4773 rows × 10 columns</p>\n",
       "</div>"
      ],
      "text/plain": [
       "       OFFICIAL POS.  RACE NUMBER                            NAME  \\\n",
       "0                1.0           14                  KIPTUM, KELVIN   \n",
       "1                2.0            8                   GEAY, GABRIEL   \n",
       "2                3.0           12               MUTISO, ALEXANDER   \n",
       "3                4.0            1                   TOLA, TAMIRAT   \n",
       "5                6.0            7                     DESO, CHALU   \n",
       "...              ...          ...                             ...   \n",
       "21594        21595.0        17188  SOLIZ HUACOTA, SELENE JANCARLA   \n",
       "21597        21598.0        19508       VÁSQUEZ BETANCUR, ALFONSO   \n",
       "21613        21614.0        22982         GUÍJAR ABRIL, GUILLERMO   \n",
       "21623        21624.0        14028                   TREDGOLD, DAN   \n",
       "21627        21628.0        26322               HERRMANN, PAULINE   \n",
       "\n",
       "       OFFICIAL TIME  REAL TIME  REAL AVERAGE  CATEGORY SEX TIME COMPARTMENT  \\\n",
       "0             7313.0     7313.0         173.0  M-SENIOR   M         02:10:00   \n",
       "1             7380.0     7379.0         175.0  M-SENIOR   M         02:10:00   \n",
       "2             7409.0     7409.0         176.0  M-SENIOR   M         02:10:00   \n",
       "3             7420.0     7420.0         176.0  M-SENIOR   M         02:10:00   \n",
       "5             7496.0     7496.0         178.0  M-SENIOR   M         02:10:00   \n",
       "...              ...        ...           ...       ...  ..              ...   \n",
       "21594        20876.0    20868.0         495.0  F-SENIOR   F         05:50:00   \n",
       "21597        21006.0    20972.0         498.0  M-SENIOR   M         06:00:00   \n",
       "21613        21485.0    21384.0         509.0  M-SENIOR   M         06:00:00   \n",
       "21623        21940.0    21857.0         520.0  M-SENIOR   M         06:10:00   \n",
       "21627        22582.0    22547.0         535.0  F-SENIOR   F         06:20:00   \n",
       "\n",
       "       AGE  \n",
       "0      NaN  \n",
       "1      NaN  \n",
       "2      NaN  \n",
       "3      NaN  \n",
       "5      NaN  \n",
       "...    ...  \n",
       "21594  NaN  \n",
       "21597  NaN  \n",
       "21613  NaN  \n",
       "21623  NaN  \n",
       "21627  NaN  \n",
       "\n",
       "[4773 rows x 10 columns]"
      ]
     },
     "execution_count": 16,
     "metadata": {},
     "output_type": "execute_result"
    }
   ],
   "source": [
    "runners[runners['AGE'].isna()]"
   ]
  },
  {
   "cell_type": "code",
   "execution_count": 17,
   "id": "451d0e07",
   "metadata": {},
   "outputs": [],
   "source": [
    "runners.dropna(subset=[\"AGE\"], inplace=True) "
   ]
  },
  {
   "cell_type": "code",
   "execution_count": 18,
   "id": "bb8c25c4",
   "metadata": {},
   "outputs": [
    {
     "name": "stdout",
     "output_type": "stream",
     "text": [
      "<class 'pandas.core.frame.DataFrame'>\n",
      "Int64Index: 16855 entries, 4 to 21626\n",
      "Data columns (total 10 columns):\n",
      " #   Column            Non-Null Count  Dtype  \n",
      "---  ------            --------------  -----  \n",
      " 0   OFFICIAL POS.     16855 non-null  float64\n",
      " 1   RACE NUMBER       16855 non-null  int64  \n",
      " 2   NAME              16855 non-null  object \n",
      " 3   OFFICIAL TIME     16855 non-null  float64\n",
      " 4   REAL TIME         16855 non-null  float64\n",
      " 5   REAL AVERAGE      16855 non-null  float64\n",
      " 6   CATEGORY          16855 non-null  object \n",
      " 7   SEX               16855 non-null  object \n",
      " 8   TIME COMPARTMENT  16855 non-null  object \n",
      " 9   AGE               16855 non-null  float64\n",
      "dtypes: float64(5), int64(1), object(4)\n",
      "memory usage: 1.4+ MB\n"
     ]
    }
   ],
   "source": [
    "runners.info()"
   ]
  },
  {
   "cell_type": "markdown",
   "id": "27fbc47f",
   "metadata": {},
   "source": [
    "## Discover and visualize the data insights"
   ]
  },
  {
   "cell_type": "code",
   "execution_count": 20,
   "id": "1e7d766a",
   "metadata": {
    "scrolled": false
   },
   "outputs": [
    {
     "data": {
      "image/png": "[encoded data removed]",
      "text/plain": [
       "<Figure size 1000x400 with 2 Axes>"
      ]
     },
     "metadata": {},
     "output_type": "display_data"
    },
    {
     "data": {
      "image/png": "[encoded data removed]",
      "text/plain": [
       "<Figure size 1200x600 with 1 Axes>"
      ]
     },
     "metadata": {},
     "output_type": "display_data"
    }
   ],
   "source": [
    "import matplotlib.pyplot as plt\n",
    "import matplotlib.axes as ax\n",
    "import seaborn as sns\n",
    "\n",
    "plt.figure(figsize=(10, 4))\n",
    "\n",
    "# Plotting the age distribution as a histogram\n",
    "plt.subplot(1, 2, 1)\n",
    "sns.histplot(data=runners, x='AGE', bins=20)\n",
    "plt.xlabel('Age')\n",
    "plt.ylabel('Count')\n",
    "plt.title('Age Distribution of Participants')\n",
    "\n",
    "sex_counts = runners['SEX'].value_counts()\n",
    "\n",
    "plt.subplot(1, 2, 2)\n",
    "plt.grid()\n",
    "sns.barplot(x=sex_counts.index, y=sex_counts.values)\n",
    "plt.xlabel('Sex')\n",
    "plt.ylabel('Count')\n",
    "plt.title('Sex Distribution of Participants')\n",
    "plt.show()\n",
    "\n",
    "plt.figure(figsize=(12, 6))\n",
    "plt.grid()\n",
    "sex_age_counts = runners.groupby(['SEX', 'AGE']).size().reset_index(name='Count')\n",
    "sns.barplot(data=sex_age_counts, x='AGE', y='Count', hue='SEX')\n",
    "plt.xlabel('Age')\n",
    "plt.ylabel('Count')\n",
    "plt.title('Sex Distribution by Age')\n",
    "plt.legend(title='Sex')\n",
    "plt.show()"
   ]
  },
  {
   "cell_type": "code",
   "execution_count": 21,
   "id": "f12dc7c8",
   "metadata": {
    "scrolled": false
   },
   "outputs": [
    {
     "data": {
      "image/png": "[encoded data removed]",
      "text/plain": [
       "<Figure size 1000x600 with 1 Axes>"
      ]
     },
     "metadata": {},
     "output_type": "display_data"
    }
   ],
   "source": [
    "# Plotting the distribution of official times using a histogram\n",
    "plt.figure(figsize=(10, 6))\n",
    "sns.histplot(data=runners, x='TIME COMPARTMENT',kde=True)\n",
    "plt.xlabel('Official Time')\n",
    "plt.ylabel('Count')\n",
    "plt.title('Distribution of Official Times')\n",
    "plt.xticks(rotation=45)\n",
    "plt.show()"
   ]
  },
  {
   "cell_type": "code",
   "execution_count": 22,
   "id": "f3514680",
   "metadata": {
    "scrolled": false
   },
   "outputs": [
    {
     "data": {
      "image/png": "[encoded data removed]",
      "text/plain": [
       "<Figure size 1000x600 with 1 Axes>"
      ]
     },
     "metadata": {},
     "output_type": "display_data"
    }
   ],
   "source": [
    "plt.figure(figsize=(10, 6))\n",
    "sns.boxplot(data=runners, x='AGE', y='OFFICIAL TIME')\n",
    "plt.xlabel('Age')\n",
    "plt.ylabel('Official Time [sec]')\n",
    "plt.title('Comparison of Official Times by Categories')\n",
    "plt.xticks(rotation=45)\n",
    "plt.show()"
   ]
  },
  {
   "cell_type": "markdown",
   "id": "f92a9050",
   "metadata": {},
   "source": [
    "## Shuffle data and create train and test sets"
   ]
  },
  {
   "cell_type": "code",
   "execution_count": 54,
   "id": "d9e94c59",
   "metadata": {},
   "outputs": [],
   "source": [
    "def shuffle_and_split_data(data, seperate_rate):\n",
    "    shuffled_indices = np.random.permutation(len(data))\n",
    "    test_set_size = int(len(data) * seperate_rate)\n",
    "    train_indices = shuffled_indices[test_set_size:]\n",
    "    test_indices = shuffled_indices[:test_set_size]\n",
    "    return data.iloc[train_indices], data.iloc[test_indices]"
   ]
  },
  {
   "cell_type": "code",
   "execution_count": 55,
   "id": "3c81b523",
   "metadata": {},
   "outputs": [],
   "source": [
    "train_set, test_set = shuffle_and_split_data(runners, 0.2)"
   ]
  },
  {
   "cell_type": "code",
   "execution_count": 56,
   "id": "6fadfc5a",
   "metadata": {},
   "outputs": [],
   "source": [
    "from sklearn.model_selection import train_test_split\n",
    "\n",
    "X_train, X_test, y_train, y_test = train_test_split(features, target, test_size=0.2, stratify=runners['SEX'], random_state=42)"
   ]
  },
  {
   "cell_type": "code",
   "execution_count": 57,
   "id": "0c5762a2",
   "metadata": {},
   "outputs": [],
   "source": [
    "features = runners.drop(['NAME', 'SEX', 'CATEGORY', 'TIME COMPARTMENT'], axis=1)\n",
    "target = runners['SEX'].copy()"
   ]
  },
  {
   "cell_type": "code",
   "execution_count": 58,
   "id": "b72b9e5e",
   "metadata": {},
   "outputs": [],
   "source": [
    "test_man = X_train[X_train['OFFICIAL POS.'].isin([18892])]"
   ]
  },
  {
   "cell_type": "code",
   "execution_count": 59,
   "id": "c957055e",
   "metadata": {},
   "outputs": [],
   "source": [
    "test_woman = X_train[X_train['OFFICIAL POS.'].isin([19745])]"
   ]
  },
  {
   "cell_type": "markdown",
   "id": "ad7e2e60",
   "metadata": {},
   "source": [
    "# Select and Train a Model"
   ]
  },
  {
   "cell_type": "markdown",
   "id": "af5a4499",
   "metadata": {},
   "source": [
    "### Create, train and test LogisticRegression Classifier"
   ]
  },
  {
   "cell_type": "code",
   "execution_count": 60,
   "id": "a47a0042",
   "metadata": {},
   "outputs": [
    {
     "name": "stdout",
     "output_type": "stream",
     "text": [
      "Accuracy: 0.8166716107979828\n"
     ]
    }
   ],
   "source": [
    "from sklearn.linear_model import LogisticRegression\n",
    "from sklearn.metrics import accuracy_score, precision_score, recall_score, f1_score\n",
    "from sklearn.metrics import mean_squared_error\n",
    "\n",
    "# Createa a Logisitc Regression Classifier\n",
    "lgr_cls = LogisticRegression()\n",
    "# Train the model on the training data\n",
    "lgr_cls.fit(X_train, y_train)\n",
    "# Make predictions on the train set\n",
    "y_pred = lgr_cls.predict(X_test)\n",
    "# Evalue the model's accuracy \n",
    "accuracy = accuracy_score(y_test, y_pred)\n",
    "print(\"Accuracy:\", accuracy)"
   ]
  },
  {
   "cell_type": "code",
   "execution_count": 61,
   "id": "2da384d5",
   "metadata": {},
   "outputs": [
    {
     "data": {
      "text/plain": [
       "0.8166716107979828"
      ]
     },
     "execution_count": 61,
     "metadata": {},
     "output_type": "execute_result"
    }
   ],
   "source": [
    "lgr_cls.score(X_test, y_test)"
   ]
  },
  {
   "cell_type": "markdown",
   "id": "9a2578f5",
   "metadata": {},
   "source": [
    "### Create, train and test LogisticRegression Classifier by adjusting the hyperparameters by GridSearch"
   ]
  },
  {
   "cell_type": "code",
   "execution_count": 62,
   "id": "f176d05e",
   "metadata": {},
   "outputs": [
    {
     "name": "stdout",
     "output_type": "stream",
     "text": [
      "Best Hyperparameters: {'C': 0.01}\n"
     ]
    },
    {
     "data": {
      "text/plain": [
       "0.8166716107979828"
      ]
     },
     "execution_count": 62,
     "metadata": {},
     "output_type": "execute_result"
    }
   ],
   "source": [
    "from sklearn.model_selection import GridSearchCV\n",
    "\n",
    "params = {\n",
    "    'C': [0.01, 0.1, 1, 10, 100]\n",
    "}\n",
    "# Create a Logisitic Regression Classifier\n",
    "lgr_cls = LogisticRegression()\n",
    "# Create an instance of GridSearchCV with the classifier and parameter grid\n",
    "grid_search = GridSearchCV(lgr_cls, params, cv=5, error_score='raise')\n",
    "# Fit the grid search object to training data\n",
    "grid_search.fit(X_train, y_train)\n",
    "# Get the best hyperparameters found by grid search\n",
    "print(\"Best Hyperparameters:\", grid_search.best_params_)\n",
    "# Get the best score found by grid search\n",
    "best_score = grid_search.best_score_\n",
    "\n",
    "#Create a new classifier with the best params and train the model\n",
    "grid_search.best_estimator_.fit(X_train, y_train)\n",
    "tuned_accuracy = grid_search.score(X_test, y_test)\n",
    "tuned_accuracy"
   ]
  },
  {
   "cell_type": "markdown",
   "id": "b7fd4f3e",
   "metadata": {},
   "source": [
    "### Create, train and test Support Vector Machine Classifier"
   ]
  },
  {
   "cell_type": "code",
   "execution_count": 30,
   "id": "5c4bc2dd",
   "metadata": {},
   "outputs": [
    {
     "name": "stdout",
     "output_type": "stream",
     "text": [
      "Accuracy: 0.8187481459507564\n"
     ]
    }
   ],
   "source": [
    "from sklearn.svm import SVC\n",
    "from sklearn.pipeline import make_pipeline\n",
    "from sklearn.preprocessing import StandardScaler\n",
    "\n",
    "# Create a pipeline based on scaler and suport vector machine classifier\n",
    "svm_clf = make_pipeline(\n",
    "    StandardScaler(),\n",
    "    SVC()\n",
    ")\n",
    "# Train the pipeline on the training data\n",
    "svm_clf.fit(X_train, y_train)\n",
    "# Predict on the test set\n",
    "y_pred = svm_clf.predict(X_test)\n",
    "# Evalue the pipeline's accuracy \n",
    "accuracy_svm = accuracy_score(y_test, y_pred)\n",
    "print(\"Accuracy:\", accuracy_svm)"
   ]
  },
  {
   "cell_type": "markdown",
   "id": "d0c2dc1f",
   "metadata": {},
   "source": [
    "### Create, train and test SVM Classifier by adjusting the hyperparameters by GridSearch"
   ]
  },
  {
   "cell_type": "code",
   "execution_count": 89,
   "id": "e5f32b9f",
   "metadata": {},
   "outputs": [
    {
     "name": "stdout",
     "output_type": "stream",
     "text": [
      "Best Hyperparameters: {'svc__C': 10, 'svc__gamma': 0.1, 'svc__kernel': 'rbf'}\n",
      "Best Score: 0.8190448448600434\n"
     ]
    }
   ],
   "source": [
    "from sklearn.pipeline import Pipeline\n",
    "\n",
    "# Create a pipeline based on scaler and suport vector machine classifier\n",
    "pipeline = make_pipeline(\n",
    "    (StandardScaler()),  # Feature scaling\n",
    "    (SVC())  # SVM classifier\n",
    ")\n",
    "# Define the parameter grid for GridSearchCV\n",
    "param = {\n",
    "    'svc__kernel': ['linear', 'rbf'],\n",
    "    'svc__gamma': [0.1, 1, 10],\n",
    "    'svc__C': [0.1, 1, 10]\n",
    "}\n",
    "\n",
    "# Create an instance of GridSearchCV with the pipeline\n",
    "grid_search_svm = GridSearchCV(pipeline, param, cv=5, scoring='accuracy')\n",
    "# Fit the data of perform grid search and hyperparameter tuning\n",
    "grid_search_svm.fit(X_train, y_train)\n",
    "\n",
    "# Print the best hyperparameters and best score\n",
    "print(\"Best Hyperparameters:\", grid_search_svm.best_params_)\n",
    "print(\"Best Score:\", grid_search_svm.best_score_)"
   ]
  },
  {
   "cell_type": "code",
   "execution_count": null,
   "id": "8088d28b",
   "metadata": {},
   "outputs": [],
   "source": [
    "grid_search_svm.predict(X_test)"
   ]
  },
  {
   "cell_type": "code",
   "execution_count": 90,
   "id": "2d747a40",
   "metadata": {},
   "outputs": [],
   "source": [
    "best_params_svc = grid_search_svm.best_params_"
   ]
  },
  {
   "cell_type": "markdown",
   "id": "fcc960c4",
   "metadata": {},
   "source": [
    "### Create, train and test RandomForest Classifier"
   ]
  },
  {
   "cell_type": "code",
   "execution_count": 32,
   "id": "a28de907",
   "metadata": {},
   "outputs": [
    {
     "name": "stdout",
     "output_type": "stream",
     "text": [
      "Accuracy: 0.8187481459507564\n",
      "Precision: 0.8187481459507564\n",
      "Recall: 1.0\n",
      "F1-Score: 0.9003425216114826\n",
      "Cross-Validation Scores: [0.80296296 0.8115727  0.81750742 0.82047478 0.81602374]\n",
      "Mean Accuracy: 0.8137083195955599\n",
      "Standard Deviation: 0.006092664917036803\n"
     ]
    }
   ],
   "source": [
    "from sklearn.ensemble import RandomForestClassifier\n",
    "from sklearn.model_selection import cross_val_score\n",
    "\n",
    "# Create an instance of the Random Forest Classifier\n",
    "rnd_clf = RandomForestClassifier(n_estimators=500, max_leaf_nodes=16, n_jobs=-1, random_state=42)\n",
    "# Fit the classifier to the training data\n",
    "rnd_clf.fit(X_train, y_train)\n",
    "# Make predictions on the test set\n",
    "rnd_clf.predict(X_test)\n",
    "# Evaluate the performance\n",
    "accuracy = accuracy_score(y_test, y_pred)\n",
    "precision = precision_score(y_test, y_pred, pos_label='M')\n",
    "recall = recall_score(y_test, y_pred, pos_label='M')\n",
    "f1 = f1_score(y_test, y_pred, pos_label='M')\n",
    "# Perform cross-validation\n",
    "cv_scores = cross_val_score(rnd_clf, X_test, y_test, cv=5, scoring='accuracy')\n",
    "\n",
    "print(\"Accuracy:\", accuracy)\n",
    "print(\"Precision:\", precision)\n",
    "print(\"Recall:\", recall)\n",
    "print(\"F1-Score:\", f1)\n",
    "\n",
    "# Print the cross-validation scores\n",
    "print(\"Cross-Validation Scores:\", cv_scores)\n",
    "print(\"Mean Accuracy:\", cv_scores.mean())\n",
    "print(\"Standard Deviation:\", cv_scores.std())"
   ]
  },
  {
   "cell_type": "markdown",
   "id": "fe8d20af",
   "metadata": {},
   "source": [
    " "
   ]
  },
  {
   "cell_type": "code",
   "execution_count": 99,
   "id": "bf92b200",
   "metadata": {},
   "outputs": [
    {
     "name": "stdout",
     "output_type": "stream",
     "text": [
      "C 10\n",
      "gamma 0.1\n",
      "kernel rbf\n"
     ]
    },
    {
     "data": {
      "text/plain": [
       "{'C': 10, 'gamma': 0.1, 'kernel': 'rbf'}"
      ]
     },
     "execution_count": 99,
     "metadata": {},
     "output_type": "execute_result"
    }
   ],
   "source": [
    "best_params = {}\n",
    "for x in best_params_svc.items():\n",
    "    best_params[x[0].split('__')[1]] = x[1]"
   ]
  },
  {
   "cell_type": "code",
   "execution_count": 106,
   "id": "1849afaa",
   "metadata": {},
   "outputs": [],
   "source": [
    "scores = []\n",
    "for i in range(10):\n",
    "    X_train, X_test, y_train, y_test = train_test_split(features, target, test_size=0.2, stratify=runners['SEX'], random_state=i)\n",
    "    pipeline = make_pipeline(\n",
    "        StandardScaler(),\n",
    "        SVC(**best_params)\n",
    "    )\n",
    "    pipeline.fit(X_train, y_train)\n",
    "    y_pred = pipeline.predict(X_test)\n",
    "    scores.append(accuracy_score(y_test, y_pred))"
   ]
  },
  {
   "cell_type": "code",
   "execution_count": 107,
   "id": "346cb5f4",
   "metadata": {},
   "outputs": [
    {
     "data": {
      "text/plain": [
       "0.8193414417086918"
      ]
     },
     "execution_count": 107,
     "metadata": {},
     "output_type": "execute_result"
    }
   ],
   "source": [
    "scores[np.argmax(scores)]"
   ]
  },
  {
   "cell_type": "markdown",
   "id": "9b438d2a",
   "metadata": {},
   "source": [
    " "
   ]
  },
  {
   "cell_type": "markdown",
   "id": "8ffe25ad",
   "metadata": {},
   "source": [
    "# Predicting age based on the avaliable data "
   ]
  },
  {
   "cell_type": "code",
   "execution_count": 101,
   "id": "07dc20eb",
   "metadata": {},
   "outputs": [
    {
     "data": {
      "text/html": [
       "<div>\n",
       "<style scoped>\n",
       "    .dataframe tbody tr th:only-of-type {\n",
       "        vertical-align: middle;\n",
       "    }\n",
       "\n",
       "    .dataframe tbody tr th {\n",
       "        vertical-align: top;\n",
       "    }\n",
       "\n",
       "    .dataframe thead th {\n",
       "        text-align: right;\n",
       "    }\n",
       "</style>\n",
       "<table border=\"1\" class=\"dataframe\">\n",
       "  <thead>\n",
       "    <tr style=\"text-align: right;\">\n",
       "      <th></th>\n",
       "      <th>SEX</th>\n",
       "    </tr>\n",
       "  </thead>\n",
       "  <tbody>\n",
       "    <tr>\n",
       "      <th>4</th>\n",
       "      <td>M</td>\n",
       "    </tr>\n",
       "    <tr>\n",
       "      <th>16</th>\n",
       "      <td>M</td>\n",
       "    </tr>\n",
       "    <tr>\n",
       "      <th>28</th>\n",
       "      <td>M</td>\n",
       "    </tr>\n",
       "    <tr>\n",
       "      <th>29</th>\n",
       "      <td>M</td>\n",
       "    </tr>\n",
       "    <tr>\n",
       "      <th>37</th>\n",
       "      <td>M</td>\n",
       "    </tr>\n",
       "  </tbody>\n",
       "</table>\n",
       "</div>"
      ],
      "text/plain": [
       "   SEX\n",
       "4    M\n",
       "16   M\n",
       "28   M\n",
       "29   M\n",
       "37   M"
      ]
     },
     "execution_count": 101,
     "metadata": {},
     "output_type": "execute_result"
    }
   ],
   "source": [
    "participant_gender = runners[['SEX']]\n",
    "participant_gender.head()"
   ]
  },
  {
   "cell_type": "code",
   "execution_count": 102,
   "id": "7fe39163",
   "metadata": {},
   "outputs": [],
   "source": [
    "sex_encoded = pd.get_dummies(runners['SEX'], prefix='SEX')"
   ]
  },
  {
   "cell_type": "code",
   "execution_count": 103,
   "id": "73386381",
   "metadata": {},
   "outputs": [],
   "source": [
    "runners = pd.concat([runners, sex_encoded], axis=1)"
   ]
  },
  {
   "cell_type": "code",
   "execution_count": 104,
   "id": "c5215534",
   "metadata": {},
   "outputs": [
    {
     "data": {
      "text/html": [
       "<div>\n",
       "<style scoped>\n",
       "    .dataframe tbody tr th:only-of-type {\n",
       "        vertical-align: middle;\n",
       "    }\n",
       "\n",
       "    .dataframe tbody tr th {\n",
       "        vertical-align: top;\n",
       "    }\n",
       "\n",
       "    .dataframe thead th {\n",
       "        text-align: right;\n",
       "    }\n",
       "</style>\n",
       "<table border=\"1\" class=\"dataframe\">\n",
       "  <thead>\n",
       "    <tr style=\"text-align: right;\">\n",
       "      <th></th>\n",
       "      <th>OFFICIAL POS.</th>\n",
       "      <th>RACE NUMBER</th>\n",
       "      <th>NAME</th>\n",
       "      <th>OFFICIAL TIME</th>\n",
       "      <th>REAL TIME</th>\n",
       "      <th>REAL AVERAGE</th>\n",
       "      <th>CATEGORY</th>\n",
       "      <th>SEX</th>\n",
       "      <th>TIME COMPARTMENT</th>\n",
       "      <th>AGE</th>\n",
       "      <th>SEX_F</th>\n",
       "      <th>SEX_M</th>\n",
       "    </tr>\n",
       "  </thead>\n",
       "  <tbody>\n",
       "    <tr>\n",
       "      <th>4</th>\n",
       "      <td>5.0</td>\n",
       "      <td>3</td>\n",
       "      <td>ÖZBILEN, KAAN KIGEN</td>\n",
       "      <td>7476.0</td>\n",
       "      <td>7476.0</td>\n",
       "      <td>177.0</td>\n",
       "      <td>M-M35</td>\n",
       "      <td>M</td>\n",
       "      <td>02:10:00</td>\n",
       "      <td>35.0</td>\n",
       "      <td>0</td>\n",
       "      <td>1</td>\n",
       "    </tr>\n",
       "    <tr>\n",
       "      <th>16</th>\n",
       "      <td>17.0</td>\n",
       "      <td>10</td>\n",
       "      <td>LAMDASSEM, AYAD</td>\n",
       "      <td>7659.0</td>\n",
       "      <td>7659.0</td>\n",
       "      <td>182.0</td>\n",
       "      <td>M-M40</td>\n",
       "      <td>M</td>\n",
       "      <td>02:10:00</td>\n",
       "      <td>40.0</td>\n",
       "      <td>0</td>\n",
       "      <td>1</td>\n",
       "    </tr>\n",
       "    <tr>\n",
       "      <th>28</th>\n",
       "      <td>29.0</td>\n",
       "      <td>38</td>\n",
       "      <td>JIMENEZ VICENTE, ALEJANDRO</td>\n",
       "      <td>7854.0</td>\n",
       "      <td>7852.0</td>\n",
       "      <td>186.0</td>\n",
       "      <td>M-M35</td>\n",
       "      <td>M</td>\n",
       "      <td>02:20:00</td>\n",
       "      <td>35.0</td>\n",
       "      <td>0</td>\n",
       "      <td>1</td>\n",
       "    </tr>\n",
       "    <tr>\n",
       "      <th>29</th>\n",
       "      <td>30.0</td>\n",
       "      <td>19</td>\n",
       "      <td>GUERRA, JAVIER</td>\n",
       "      <td>7920.0</td>\n",
       "      <td>7920.0</td>\n",
       "      <td>188.0</td>\n",
       "      <td>M-M35</td>\n",
       "      <td>M</td>\n",
       "      <td>02:20:00</td>\n",
       "      <td>35.0</td>\n",
       "      <td>0</td>\n",
       "      <td>1</td>\n",
       "    </tr>\n",
       "    <tr>\n",
       "      <th>37</th>\n",
       "      <td>38.0</td>\n",
       "      <td>942</td>\n",
       "      <td>MAHIEU, JUSTIN</td>\n",
       "      <td>8016.0</td>\n",
       "      <td>8014.0</td>\n",
       "      <td>190.0</td>\n",
       "      <td>M-M35</td>\n",
       "      <td>M</td>\n",
       "      <td>02:20:00</td>\n",
       "      <td>35.0</td>\n",
       "      <td>0</td>\n",
       "      <td>1</td>\n",
       "    </tr>\n",
       "    <tr>\n",
       "      <th>...</th>\n",
       "      <td>...</td>\n",
       "      <td>...</td>\n",
       "      <td>...</td>\n",
       "      <td>...</td>\n",
       "      <td>...</td>\n",
       "      <td>...</td>\n",
       "      <td>...</td>\n",
       "      <td>...</td>\n",
       "      <td>...</td>\n",
       "      <td>...</td>\n",
       "      <td>...</td>\n",
       "      <td>...</td>\n",
       "    </tr>\n",
       "    <tr>\n",
       "      <th>21621</th>\n",
       "      <td>21622.0</td>\n",
       "      <td>1424</td>\n",
       "      <td>DABBAH, FABIAN</td>\n",
       "      <td>21748.0</td>\n",
       "      <td>21699.0</td>\n",
       "      <td>515.0</td>\n",
       "      <td>M-M55</td>\n",
       "      <td>M</td>\n",
       "      <td>06:10:00</td>\n",
       "      <td>55.0</td>\n",
       "      <td>0</td>\n",
       "      <td>1</td>\n",
       "    </tr>\n",
       "    <tr>\n",
       "      <th>21622</th>\n",
       "      <td>21623.0</td>\n",
       "      <td>26332</td>\n",
       "      <td>GOFFIN, SOLANGE</td>\n",
       "      <td>21807.0</td>\n",
       "      <td>21723.0</td>\n",
       "      <td>517.0</td>\n",
       "      <td>F-W60</td>\n",
       "      <td>F</td>\n",
       "      <td>06:10:00</td>\n",
       "      <td>60.0</td>\n",
       "      <td>1</td>\n",
       "      <td>0</td>\n",
       "    </tr>\n",
       "    <tr>\n",
       "      <th>21624</th>\n",
       "      <td>21625.0</td>\n",
       "      <td>28127</td>\n",
       "      <td>ARRIGHI, PAOLA</td>\n",
       "      <td>21961.0</td>\n",
       "      <td>21920.0</td>\n",
       "      <td>520.0</td>\n",
       "      <td>F-W60</td>\n",
       "      <td>F</td>\n",
       "      <td>06:10:00</td>\n",
       "      <td>60.0</td>\n",
       "      <td>1</td>\n",
       "      <td>0</td>\n",
       "    </tr>\n",
       "    <tr>\n",
       "      <th>21625</th>\n",
       "      <td>21626.0</td>\n",
       "      <td>5337</td>\n",
       "      <td>ALLEN, ROXANA</td>\n",
       "      <td>22145.0</td>\n",
       "      <td>22115.0</td>\n",
       "      <td>525.0</td>\n",
       "      <td>F-W45</td>\n",
       "      <td>F</td>\n",
       "      <td>06:10:00</td>\n",
       "      <td>45.0</td>\n",
       "      <td>1</td>\n",
       "      <td>0</td>\n",
       "    </tr>\n",
       "    <tr>\n",
       "      <th>21626</th>\n",
       "      <td>21627.0</td>\n",
       "      <td>20220</td>\n",
       "      <td>SMITH, LOUISE</td>\n",
       "      <td>22353.0</td>\n",
       "      <td>22318.0</td>\n",
       "      <td>530.0</td>\n",
       "      <td>F-W45</td>\n",
       "      <td>F</td>\n",
       "      <td>06:20:00</td>\n",
       "      <td>45.0</td>\n",
       "      <td>1</td>\n",
       "      <td>0</td>\n",
       "    </tr>\n",
       "  </tbody>\n",
       "</table>\n",
       "<p>16855 rows × 12 columns</p>\n",
       "</div>"
      ],
      "text/plain": [
       "       OFFICIAL POS.  RACE NUMBER                        NAME  OFFICIAL TIME  \\\n",
       "4                5.0            3         ÖZBILEN, KAAN KIGEN         7476.0   \n",
       "16              17.0           10             LAMDASSEM, AYAD         7659.0   \n",
       "28              29.0           38  JIMENEZ VICENTE, ALEJANDRO         7854.0   \n",
       "29              30.0           19              GUERRA, JAVIER         7920.0   \n",
       "37              38.0          942              MAHIEU, JUSTIN         8016.0   \n",
       "...              ...          ...                         ...            ...   \n",
       "21621        21622.0         1424              DABBAH, FABIAN        21748.0   \n",
       "21622        21623.0        26332             GOFFIN, SOLANGE        21807.0   \n",
       "21624        21625.0        28127              ARRIGHI, PAOLA        21961.0   \n",
       "21625        21626.0         5337               ALLEN, ROXANA        22145.0   \n",
       "21626        21627.0        20220               SMITH, LOUISE        22353.0   \n",
       "\n",
       "       REAL TIME  REAL AVERAGE CATEGORY SEX TIME COMPARTMENT   AGE  SEX_F  \\\n",
       "4         7476.0         177.0    M-M35   M         02:10:00  35.0      0   \n",
       "16        7659.0         182.0    M-M40   M         02:10:00  40.0      0   \n",
       "28        7852.0         186.0    M-M35   M         02:20:00  35.0      0   \n",
       "29        7920.0         188.0    M-M35   M         02:20:00  35.0      0   \n",
       "37        8014.0         190.0    M-M35   M         02:20:00  35.0      0   \n",
       "...          ...           ...      ...  ..              ...   ...    ...   \n",
       "21621    21699.0         515.0    M-M55   M         06:10:00  55.0      0   \n",
       "21622    21723.0         517.0    F-W60   F         06:10:00  60.0      1   \n",
       "21624    21920.0         520.0    F-W60   F         06:10:00  60.0      1   \n",
       "21625    22115.0         525.0    F-W45   F         06:10:00  45.0      1   \n",
       "21626    22318.0         530.0    F-W45   F         06:20:00  45.0      1   \n",
       "\n",
       "       SEX_M  \n",
       "4          1  \n",
       "16         1  \n",
       "28         1  \n",
       "29         1  \n",
       "37         1  \n",
       "...      ...  \n",
       "21621      1  \n",
       "21622      0  \n",
       "21624      0  \n",
       "21625      0  \n",
       "21626      0  \n",
       "\n",
       "[16855 rows x 12 columns]"
      ]
     },
     "execution_count": 104,
     "metadata": {},
     "output_type": "execute_result"
    }
   ],
   "source": [
    "runners"
   ]
  },
  {
   "cell_type": "code",
   "execution_count": 133,
   "id": "e75653d0",
   "metadata": {},
   "outputs": [],
   "source": [
    "features = runners.drop(['NAME', 'CATEGORY', 'SEX', 'TIME COMPARTMENT', 'AGE'], axis=1)\n",
    "target = runners['AGE'].copy()"
   ]
  },
  {
   "cell_type": "code",
   "execution_count": 134,
   "id": "fce7a5e6",
   "metadata": {},
   "outputs": [],
   "source": [
    "from sklearn.model_selection import train_test_split\n",
    "\n",
    "X_train, X_test, y_train, y_test = train_test_split(features, target, test_size=0.2, stratify=runners['SEX'], random_state=42)"
   ]
  },
  {
   "cell_type": "code",
   "execution_count": 109,
   "id": "bc23be84",
   "metadata": {
    "scrolled": true
   },
   "outputs": [
    {
     "name": "stderr",
     "output_type": "stream",
     "text": [
      "C:\\Users\\Adrian_PC\\AppData\\Local\\Programs\\Python\\Python311\\Lib\\site-packages\\sklearn\\model_selection\\_split.py:700: UserWarning: The least populated class in y has only 1 members, which is less than n_splits=5.\n",
      "  warnings.warn(\n"
     ]
    },
    {
     "name": "stdout",
     "output_type": "stream",
     "text": [
      "Best Hyperparameters: {'svm__C': 0.1, 'svm__gamma': 1, 'svm__kernel': 'rbf'}\n",
      "Best Score: 0.2707646093197299\n"
     ]
    }
   ],
   "source": [
    "# Create a pipeline based on scaler and suport vector machine classifier\n",
    "pipeline = Pipeline([\n",
    "    ('scaler', StandardScaler()),  # Feature scaling\n",
    "    ('svm', SVC())  # SVM classifier\n",
    "])\n",
    "# Define the parameter grid for GridSearchCV\n",
    "param = {\n",
    "    'svm__kernel': ['linear', 'rbf'],\n",
    "    'svm__gamma': [0.1, 1, 10],\n",
    "    'svm__C': [0.1, 1, 10]\n",
    "}\n",
    "\n",
    "# Create an instance of GridSearchCV with the pipeline\n",
    "grid_search = GridSearchCV(pipeline, param, cv=5, scoring='accuracy')\n",
    "# Fit the data of perform grid search and hyperparameter tuning\n",
    "grid_search.fit(X_train, y_train)\n",
    "\n",
    "# Print the best hyperparameters and best score\n",
    "print(\"Best Hyperparameters:\", grid_search.best_params_)\n",
    "print(\"Best Score:\", grid_search.best_score_)"
   ]
  },
  {
   "cell_type": "code",
   "execution_count": 139,
   "id": "a43f217c",
   "metadata": {},
   "outputs": [
    {
     "name": "stderr",
     "output_type": "stream",
     "text": [
      "C:\\Users\\Adrian_PC\\AppData\\Local\\Programs\\Python\\Python311\\Lib\\site-packages\\sklearn\\model_selection\\_split.py:700: UserWarning: The least populated class in y has only 1 members, which is less than n_splits=5.\n",
      "  warnings.warn(\n"
     ]
    },
    {
     "name": "stdout",
     "output_type": "stream",
     "text": [
      "Accuracy: 0.26431326016018986\n",
      "Cross-Validation Scores: [0.2637037  0.27002967 0.26557864 0.27744807 0.30267062]\n",
      "Mean Accuracy: 0.2758861413342125\n",
      "Standard Deviation: 0.014204244284225152\n"
     ]
    }
   ],
   "source": [
    "# Create an instance of the Random Forest Classifier\n",
    "rnd_clf = RandomForestClassifier(n_estimators=500, max_leaf_nodes=16, n_jobs=-1, random_state=42)\n",
    "# Fit the classifier to the training data\n",
    "rnd_clf.fit(X_train, y_train)\n",
    "# Make predictions on the test set\n",
    "rnd_clf.predict(X_test)\n",
    "# Evaluate the performance\n",
    "accuracy = accuracy_score(y_test, y_pred)\n",
    "# Perform cross-validation\n",
    "cv_scores = cross_val_score(rnd_clf, X_test, y_test, cv=5, scoring='accuracy')\n",
    "\n",
    "# Print the cross-validation scores\n",
    "print(\"Accuracy:\", accuracy)\n",
    "print(\"Cross-Validation Scores:\", cv_scores)\n",
    "print(\"Mean Accuracy:\", cv_scores.mean())\n",
    "print(\"Standard Deviation:\", cv_scores.std())"
   ]
  },
  {
   "cell_type": "code",
   "execution_count": null,
   "id": "3bb1c75f",
   "metadata": {},
   "outputs": [],
   "source": []
  }
 ],
 "metadata": {
  "kernelspec": {
   "display_name": "Python 3 (ipykernel)",
   "language": "python",
   "name": "python3"
  },
  "language_info": {
   "codemirror_mode": {
    "name": "ipython",
    "version": 3
   },
   "file_extension": ".py",
   "mimetype": "text/x-python",
   "name": "python",
   "nbconvert_exporter": "python",
   "pygments_lexer": "ipython3",
   "version": "3.11.2"
  }
 },
 "nbformat": 4,
 "nbformat_minor": 5
}
